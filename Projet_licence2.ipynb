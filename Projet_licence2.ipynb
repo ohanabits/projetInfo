{
 "cells": [
  {
   "cell_type": "markdown",
   "metadata": {},
   "source": [
    "# Introduction To Python\n",
    "## Section 1 - Data Types"
   ]
  },
  {
   "cell_type": "markdown",
   "metadata": {},
   "source": [
    "Bonjour!  \n",
    "Le projet suivant a pour but de reprendre les cours dispensés .  \n",
    "Suivez progressivement les différentes cellules\n",
    "Exécutez chaque cellule puis enregistrez sous format pdf et envoyez le fomat pdf et notebook sur mon mail"
   ]
  },
  {
   "cell_type": "markdown",
   "metadata": {},
   "source": [
    "-1 Affichez :\"Welcome to Introduction to Python\""
   ]
  },
  {
   "cell_type": "code",
   "execution_count": 74,
   "metadata": {},
   "outputs": [
    {
     "name": "stdout",
     "output_type": "stream",
     "text": [
      "Welcome to Introduction to Python\n"
     ]
    }
   ],
   "source": [
    "print(\"Welcome to Introduction to Python\")"
   ]
  },
  {
   "cell_type": "markdown",
   "metadata": {},
   "source": [
    "-2 Créez deux variables a et b\n",
    "-Assignez à a la phrase \"This is the first half of a sentence, \" et à b la phrase \"and this is its second half\"\n",
    "-Affichez a\n",
    "-Affichez a+b"
   ]
  },
  {
   "cell_type": "code",
   "execution_count": 75,
   "metadata": {},
   "outputs": [
    {
     "name": "stdout",
     "output_type": "stream",
     "text": [
      "This is the first half of a sentence\n",
      "and this is its second half\n",
      "This is the first half of a sentenceand this is its second half\n"
     ]
    }
   ],
   "source": [
    "a = 'This is the first half of a sentence'\n",
    "b =  'and this is its second half'\n",
    "print(a)\n",
    "print(b)\n",
    "print(a+b)"
   ]
  },
  {
   "cell_type": "markdown",
   "metadata": {},
   "source": [
    "-3 Créer la variable  tagline et lui assigner la phrase \"Hitachi,Inspire the Next\"\n",
    "Affichez \"tagline=\"+ tagline"
   ]
  },
  {
   "cell_type": "code",
   "execution_count": 76,
   "metadata": {},
   "outputs": [
    {
     "name": "stdout",
     "output_type": "stream",
     "text": [
      "tagline=Hitachi,Inspire the Next\n"
     ]
    }
   ],
   "source": [
    "tagline = \"Hitachi,Inspire the Next\"\n",
    "print(\"tagline=\"+tagline )"
   ]
  },
  {
   "cell_type": "markdown",
   "metadata": {},
   "source": [
    "-4\n",
    "Créer les variables numériques a et b \n",
    "Affichez l'addition de a et b\n",
    "faites la soustraction\n",
    "faites la division\n",
    "faites la mulplication\n",
    "Affichez l'addition, la multiplication, la division, la soustraction\n",
    "Affihez que la partie entière de la division"
   ]
  },
  {
   "cell_type": "code",
   "execution_count": 77,
   "metadata": {
    "scrolled": true
   },
   "outputs": [
    {
     "name": "stdout",
     "output_type": "stream",
     "text": [
      "30\n",
      "18\n",
      "0\n",
      "144\n"
     ]
    }
   ],
   "source": [
    "a,b = 6,24\n",
    "c=a+b\n",
    "d= b-a\n",
    "e=a//b\n",
    "f= a*b\n",
    "print(c)\n",
    "print(d)\n",
    "print(e)\n",
    "print(f)"
   ]
  },
  {
   "cell_type": "markdown",
   "metadata": {},
   "source": [
    "-5\n",
    "Assignez à la variable x le carré de a\n",
    "Assignez à la vaiable y le cube de b\n",
    "Additionnez a et b"
   ]
  },
  {
   "cell_type": "code",
   "execution_count": 78,
   "metadata": {},
   "outputs": [
    {
     "name": "stdout",
     "output_type": "stream",
     "text": [
      "11\n"
     ]
    }
   ],
   "source": [
    "a=5\n",
    "b=6\n",
    "x= a*a \n",
    "y=b*b*b\n",
    "print(a+b)"
   ]
  },
  {
   "cell_type": "markdown",
   "metadata": {},
   "source": [
    "-6\n",
    "Créez la variable my_str qui correspond à \"I have {} apples and {} pears\"\n",
    "Créez les variables numériques apples et pears et leur donner une valeur\n",
    "Afficher my_str.format(apples,pears)"
   ]
  },
  {
   "cell_type": "code",
   "execution_count": 79,
   "metadata": {},
   "outputs": [
    {
     "name": "stdout",
     "output_type": "stream",
     "text": [
      "I have 4 apples and 5 pears\n"
     ]
    }
   ],
   "source": [
    "my_str = \"I have {} apples and {} pears\"\n",
    "\n",
    "apples = 4\n",
    "pears = 5\n",
    "\n",
    "print(my_str.format(apples,pears))"
   ]
  },
  {
   "cell_type": "markdown",
   "metadata": {},
   "source": [
    "-7 \n",
    "Créer le list example_list de votre choix\n",
    "Affichez la première valeur de la list"
   ]
  },
  {
   "cell_type": "code",
   "execution_count": 80,
   "metadata": {},
   "outputs": [
    {
     "data": {
      "text/plain": [
       "0"
      ]
     },
     "execution_count": 80,
     "metadata": {},
     "output_type": "execute_result"
    }
   ],
   "source": [
    "example_list = [0,3,5,7]\n",
    "example_list[0]"
   ]
  },
  {
   "cell_type": "markdown",
   "metadata": {},
   "source": [
    "-8a\n",
    "Créer la list my_list de 8 éléments\n",
    "Affichez le dernier élément de la liste de 2 manières"
   ]
  },
  {
   "cell_type": "code",
   "execution_count": 81,
   "metadata": {},
   "outputs": [
    {
     "data": {
      "text/plain": [
       "7"
      ]
     },
     "execution_count": 81,
     "metadata": {},
     "output_type": "execute_result"
    }
   ],
   "source": [
    "my_list=[0,1,2,3,4,5,6,7]\n",
    "my_list[-1]\n"
   ]
  },
  {
   "cell_type": "code",
   "execution_count": 82,
   "metadata": {},
   "outputs": [
    {
     "data": {
      "text/plain": [
       "7"
      ]
     },
     "execution_count": 82,
     "metadata": {},
     "output_type": "execute_result"
    }
   ],
   "source": [
    "my_list=[0,1,2,3,4,5,6,7]\n",
    "my_list[7]"
   ]
  },
  {
   "cell_type": "markdown",
   "metadata": {},
   "source": [
    "-8b\n",
    "-Créez le dictionnaire hitachi contenant les éléments suivants\n",
    "\"Name\": \"Hitachi Ltd\",\n",
    "    \"Employees\": 333150,\n",
    "    \"Revenue_EUR\": 75092000000,\n",
    "    \"HQ\": \"Tokyo, Japan\",\n",
    "    \"Founding_Year\": 1910,\n",
    "    \"Founding_Spirit\": [\"Wa\", \"Makoto\", \"Kaitakusha-Sieshin\"]\n",
    "-Affichez le dictionnaire\n",
    "-Affichez la valeur de l'item 'Revenue_EUR'"
   ]
  },
  {
   "cell_type": "code",
   "execution_count": 83,
   "metadata": {
    "scrolled": true
   },
   "outputs": [
    {
     "name": "stdout",
     "output_type": "stream",
     "text": [
      "{'Name': 'Hitachi Ltd', 'Employees': '333150', 'Revenue_EUR': '75092000000', 'HQ': 'Tokyo,Japan', 'Founding_Year': '1910', 'Founding_Spirit': '[Wa,Makoto,Kaitakusha-Sieshin]'}\n"
     ]
    },
    {
     "data": {
      "text/plain": [
       "'75092000000'"
      ]
     },
     "execution_count": 83,
     "metadata": {},
     "output_type": "execute_result"
    }
   ],
   "source": [
    "hitachi= dict= {}\n",
    "dict[\"Name\"]=\"Hitachi Ltd\"\n",
    "dict[\"Employees\"]= \"333150\"\n",
    "dict[\"Revenue_EUR\"]=\"75092000000\"\n",
    "dict[\"HQ\"]=\"Tokyo,Japan\"\n",
    "dict[\"Founding_Year\"]= \"1910\"\n",
    "dict[\"Founding_Spirit\"]=\"[Wa,Makoto,Kaitakusha-Sieshin]\"\n",
    "print(dict)\n",
    "hitachi ['Revenue_EUR']"
   ]
  },
  {
   "cell_type": "markdown",
   "metadata": {},
   "source": [
    " affichez l'année de fondation d'hitachi"
   ]
  },
  {
   "cell_type": "code",
   "execution_count": 84,
   "metadata": {},
   "outputs": [
    {
     "data": {
      "text/plain": [
       "'1910'"
      ]
     },
     "execution_count": 84,
     "metadata": {},
     "output_type": "execute_result"
    }
   ],
   "source": [
    "hitachi ['Founding_Year']"
   ]
  },
  {
   "cell_type": "markdown",
   "metadata": {},
   "source": [
    "## Section 2 - Fonctions"
   ]
  },
  {
   "cell_type": "markdown",
   "metadata": {},
   "source": [
    "-9\n",
    "Créer une fonction qui fait l'addition de 2 variables\n",
    "Utilisez cette fonction pour 2 nombres que vous choisirez"
   ]
  },
  {
   "cell_type": "code",
   "execution_count": 85,
   "metadata": {},
   "outputs": [
    {
     "name": "stdout",
     "output_type": "stream",
     "text": [
      "8\n"
     ]
    }
   ],
   "source": [
    "def add_numbers(a,b):\n",
    "    z=a+b\n",
    "    return z,a,b\n",
    "a=3\n",
    "b=5\n",
    "z=a+b\n",
    "print(z)"
   ]
  },
  {
   "cell_type": "markdown",
   "metadata": {},
   "source": [
    "-10\n",
    "Créez la fonction Happy_birthday avec comme variable name\n",
    "Affichez \"Happy Birthday to you\"\n",
    "Affichez \"Happy Birthday to you\"\n",
    "Affichez \"Happy Birthday dear \" + name\n",
    "Affichez \"Happy Birthday to you\"\n",
    "Utiliez la fonction avec votre nom et afficher"
   ]
  },
  {
   "cell_type": "code",
   "execution_count": 86,
   "metadata": {},
   "outputs": [
    {
     "name": "stdout",
     "output_type": "stream",
     "text": [
      "Happy Birthdayto you\n",
      "Happy Birthday to you\n",
      "Happy Birthday dear name\n",
      "Happy Birthday dear Rizik\n"
     ]
    }
   ],
   "source": [
    "def Happy_birthday (name):\n",
    "    z=\"Happy Birthday\" \n",
    "    return z\n",
    "print(\"Happy Birthday\"+ \"to you\")\n",
    "print(\"Happy Birthday to you\")\n",
    "print(\"Happy Birthday dear\",\"name\")\n",
    "print(\"Happy Birthday\" ,\"dear\",'Rizik')"
   ]
  },
  {
   "cell_type": "markdown",
   "metadata": {},
   "source": [
    "-11\n",
    "Créez la fonction pro_numbers avec deux variables d'entrée\n",
    "Calculez la multiplication des 2 variables plus 5\n",
    "Utilisez l fonction pour 2 nombres de vo"
   ]
  },
  {
   "cell_type": "code",
   "execution_count": 87,
   "metadata": {},
   "outputs": [
    {
     "name": "stdout",
     "output_type": "stream",
     "text": [
      "1255\n"
     ]
    }
   ],
   "source": [
    "def pro_numbers(a,b):\n",
    "    y = a*b+5\n",
    "\n",
    "a=50\n",
    "b=25\n",
    "y=a*b+5\n",
    "print(y)"
   ]
  },
  {
   "cell_type": "markdown",
   "metadata": {},
   "source": [
    "#### Logical Operators\n"
   ]
  },
  {
   "cell_type": "markdown",
   "metadata": {},
   "source": [
    " -12\n",
    "Tester l'égalité\n",
    "tester la différence\n",
    "tester la superiorité\n",
    "tester l'infériorité\n",
    "pour deux variables de votre choix"
   ]
  },
  {
   "cell_type": "code",
   "execution_count": 88,
   "metadata": {},
   "outputs": [
    {
     "name": "stdout",
     "output_type": "stream",
     "text": [
      "-2\n",
      "True\n",
      "True\n",
      "False\n"
     ]
    }
   ],
   "source": [
    "print(8-10)\n",
    "print(10>8)\n",
    "print(8<10)\n",
    "print(8>=10)"
   ]
  },
  {
   "cell_type": "markdown",
   "metadata": {},
   "source": [
    "-13\n",
    "Choissez un numéro"
   ]
  },
  {
   "cell_type": "code",
   "execution_count": 89,
   "metadata": {},
   "outputs": [],
   "source": [
    "num = 5"
   ]
  },
  {
   "cell_type": "markdown",
   "metadata": {},
   "source": [
    "tester la fonction"
   ]
  },
  {
   "cell_type": "code",
   "execution_count": 90,
   "metadata": {},
   "outputs": [
    {
     "name": "stdout",
     "output_type": "stream",
     "text": [
      "5 is positive\n",
      "5 is five\n"
     ]
    }
   ],
   "source": [
    "if num < 0:\n",
    "    print(\"{} is negative\".format(num))\n",
    "elif num > 0:\n",
    "    print(\"{} is positive\".format(num))\n",
    "else:\n",
    "    print(\"{} is zero\".format(num))\n",
    "\n",
    "if num != 5:\n",
    "    print(\"{} is not five\".format(num))\n",
    "else:\n",
    "    print(\"{} is five\".format(num))"
   ]
  },
  {
   "cell_type": "markdown",
   "metadata": {},
   "source": [
    "-14\n",
    "Choisir entre \"European\" et \"African et tester la fonction"
   ]
  },
  {
   "cell_type": "code",
   "execution_count": 91,
   "metadata": {},
   "outputs": [],
   "source": [
    "def swallow_velocity(x):\n",
    "    a=African\n",
    "    return a,african\n",
    "    if type == \"European\":\n",
    "        print(\"12 m/s\")\n",
    "    elif type == \"African\":\n",
    "        print(\"10 m/s\")\n",
    "    else:\n",
    "        print(\"I don't know that type of swallow\")"
   ]
  },
  {
   "cell_type": "markdown",
   "metadata": {},
   "source": [
    "-15\n",
    "Créer une fonction qui calcule la racine carrée"
   ]
  },
  {
   "cell_type": "code",
   "execution_count": 92,
   "metadata": {},
   "outputs": [],
   "source": [
    "def print_square_root(x):\n",
    "    x=a**0,5\n",
    "    return x,a "
   ]
  },
  {
   "cell_type": "markdown",
   "metadata": {},
   "source": [
    "Utilisez cette fonction pour ce nombe 41370624"
   ]
  },
  {
   "cell_type": "code",
   "execution_count": 93,
   "metadata": {},
   "outputs": [
    {
     "name": "stdout",
     "output_type": "stream",
     "text": [
      "(1, 5)\n"
     ]
    }
   ],
   "source": [
    "A=41370624 ** 0,5\n",
    "print (A)"
   ]
  },
  {
   "cell_type": "markdown",
   "metadata": {},
   "source": [
    "-16\n",
    "Choisisez un numbre et tester"
   ]
  },
  {
   "cell_type": "code",
   "execution_count": 94,
   "metadata": {},
   "outputs": [
    {
     "name": "stdout",
     "output_type": "stream",
     "text": [
      "4 is not divisible by six\n",
      "4 is a positive single digit\n"
     ]
    }
   ],
   "source": [
    "num = 4\n",
    "\n",
    "if (num % 2 == 0) and (num % 3 == 0):\n",
    "    print(\"{} is divisible by six\".format(num))\n",
    "else:\n",
    "    print(\"{} is not divisible by six\".format(num))\n",
    "\n",
    "if isinstance(num, int) and (num > 0) and (num < 10):\n",
    "    print(\"{} is a positive single digit\".format(num))"
   ]
  },
  {
   "cell_type": "markdown",
   "metadata": {},
   "source": [
    "-17\n",
    "Choisissez un niveau et testez"
   ]
  },
  {
   "cell_type": "code",
   "execution_count": 95,
   "metadata": {},
   "outputs": [
    {
     "name": "stdout",
     "output_type": "stream",
     "text": [
      "Consultant\n"
     ]
    }
   ],
   "source": [
    "level = \"C1\"\n",
    "\n",
    "if level == \"C1\" or level == \"C2\":\n",
    "    position = \"Consultant\"\n",
    "elif level == \"SC1\" or level == \"SC2\":\n",
    "    position = \"Senior Consultant\"\n",
    "elif level == \"M1\" or level == \"M2\" or level == \"M3\":\n",
    "    position = \"Manager\"\n",
    "elif level == \"SM1\" or level == \"SM2\":\n",
    "    position = \"Senior Manager\"\n",
    "elif level == \"DCS\":\n",
    "    position = \"Director\"\n",
    "elif level == \"VP\":\n",
    "    position = \"Vice President\"\n",
    "else:\n",
    "    position = \"Other\"\n",
    "\n",
    "print(position)"
   ]
  },
  {
   "cell_type": "markdown",
   "metadata": {},
   "source": [
    "-18\n",
    "Choisissez des valeurs pour string_1 et string_2 et tester"
   ]
  },
  {
   "cell_type": "code",
   "execution_count": 96,
   "metadata": {},
   "outputs": [
    {
     "name": "stdout",
     "output_type": "stream",
     "text": [
      "String 1 is not a substring of String 2\n"
     ]
    }
   ],
   "source": [
    "# String\n",
    "string_1 = \" Hello World! \"\n",
    "string_2 = \"Goodbye World!\"\n",
    "\n",
    "if string_1 in string_2:\n",
    "    print(\"String 1 is a substring of String 2\")\n",
    "else:\n",
    "    print(\"String 1 is not a substring of String 2\")"
   ]
  },
  {
   "cell_type": "markdown",
   "metadata": {},
   "source": [
    "## Section 3 - Loops"
   ]
  },
  {
   "cell_type": "markdown",
   "metadata": {},
   "source": [
    "-19\n",
    "testez la fonction en remplaçant x et y"
   ]
  },
  {
   "cell_type": "code",
   "execution_count": 97,
   "metadata": {},
   "outputs": [
    {
     "name": "stdout",
     "output_type": "stream",
     "text": [
      "Tis but a scratch\n",
      "It's just a flesh wound\n",
      "I'm Invincible\n"
     ]
    }
   ],
   "source": [
    "# You can loop through the list and run conditionals on each number\n",
    "for missing_limbs in range(1, 4):\n",
    "    if missing_limbs == 0:\n",
    "        print(\"None Shall Pass\")\n",
    "    elif missing_limbs == 1:\n",
    "        print(\"Tis but a scratch\")\n",
    "    elif missing_limbs == 2:\n",
    "        print(\"It's just a flesh wound\")\n",
    "    elif missing_limbs == 3:\n",
    "        print(\"I'm Invincible\")\n",
    "    elif missing_limbs == 4:\n",
    "        print(\"All right, we'll call it a draw.\")"
   ]
  },
  {
   "cell_type": "code",
   "execution_count": 98,
   "metadata": {},
   "outputs": [
    {
     "name": "stdout",
     "output_type": "stream",
     "text": [
      "None Shall Pass\n"
     ]
    }
   ],
   "source": [
    "for missing_limbs in range(2, 3):\n",
    "    if missing_limbs /1:\n",
    "        print(\"None Shall Pass\")\n",
    "    elif missing_limbs / 2:\n",
    "        print(\"Tis but a scratch\")\n",
    "    elif missing_limbs / 2:\n",
    "        print(\"It's just a flesh wound\")\n",
    "    elif missing_limbs / 3:\n",
    "        print(\"I'm Invincible\")\n",
    "    elif missing_limbs / 4:\n",
    "        print(\"All right, we'll call it a draw.\")"
   ]
  },
  {
   "cell_type": "markdown",
   "metadata": {},
   "source": [
    "-20\n",
    "Créer la liste food_list et tester"
   ]
  },
  {
   "cell_type": "code",
   "execution_count": 99,
   "metadata": {},
   "outputs": [
    {
     "ename": "IndentationError",
     "evalue": "expected an indented block (<ipython-input-99-4b0a76b6f491>, line 7)",
     "output_type": "error",
     "traceback": [
      "\u001b[0;36m  File \u001b[0;32m\"<ipython-input-99-4b0a76b6f491>\"\u001b[0;36m, line \u001b[0;32m7\u001b[0m\n\u001b[0;31m    print()\"I don't want \" + food + \", I want spam\")\u001b[0m\n\u001b[0m        ^\u001b[0m\n\u001b[0;31mIndentationError\u001b[0m\u001b[0;31m:\u001b[0m expected an indented block\n"
     ]
    }
   ],
   "source": [
    "food_list =[0,\"food\",\"spam\",\"Yum,spam!\"]\n",
    "for food in food_list:\n",
    "    if food == \"Spam\":\n",
    "        print(\"Yum, spam!\")\n",
    "        break\n",
    "    else:\n",
    "    print()\"I don't want \" + food + \", I want spam\")"
   ]
  },
  {
   "cell_type": "markdown",
   "metadata": {},
   "source": [
    "-21\n",
    "Créer \n",
    "stock_prices = {'IBM': 146.48, 'MSFT': 44.11, 'CSCO': 25.54, 'AAPL': 108.48, 'HTHIY': 493.57}\n",
    "et tester la fonction"
   ]
  },
  {
   "cell_type": "code",
   "execution_count": 100,
   "metadata": {},
   "outputs": [],
   "source": [
    "stock_prices= {'IBM': 146.48, 'MSFT': 44.11, 'CSCO': 25.54, 'AAPL': 108.48, 'HTHIY': 493.57}"
   ]
  },
  {
   "cell_type": "markdown",
   "metadata": {},
   "source": [
    "-22\n",
    "Créer \n",
    "stock_prices = {'cake': 146.48, 'cookies': 44.11, 'choo': 25.54, 'bi': 108.48, 'at': 493.57}\n",
    "et tester la fonction"
   ]
  },
  {
   "cell_type": "code",
   "execution_count": 101,
   "metadata": {},
   "outputs": [
    {
     "name": "stdout",
     "output_type": "stream",
     "text": [
      "The price of cake is $146.48\n",
      "The price of cookies is $44.11\n",
      "The price of choo is $25.54\n",
      "The price of bi is $108.48\n",
      "The price of at is $493.57\n"
     ]
    }
   ],
   "source": [
    "stock_prices = {'cake': 146.48, 'cookies': 44.11, 'choo': 25.54, 'bi': 108.48, 'at': 493.57}\n",
    "for stock in stock_prices:\n",
    "    print(\"The price of {} is ${}\".format(stock, stock_prices[stock]))"
   ]
  },
  {
   "cell_type": "markdown",
   "metadata": {},
   "source": [
    "-23\n",
    "Donnez des valeurs à a et b et tester\n"
   ]
  },
  {
   "cell_type": "code",
   "execution_count": 103,
   "metadata": {},
   "outputs": [
    {
     "name": "stdout",
     "output_type": "stream",
     "text": [
      "6 is less than 10\n",
      "7 is less than 10\n",
      "8 is less than 10\n",
      "9 is less than 10\n",
      "10 is not less than 10\n"
     ]
    }
   ],
   "source": [
    "a = 10\n",
    "b = 6\n",
    "while b < a:\n",
    "    print(\"{} is less than {}\".format(b, a))\n",
    "    b += 1\n",
    "print(\"{} is not less than {}\".format(b, a))"
   ]
  },
  {
   "cell_type": "code",
   "execution_count": 104,
   "metadata": {},
   "outputs": [
    {
     "name": "stdout",
     "output_type": "stream",
     "text": [
      "10 is not less than 10\n"
     ]
    }
   ],
   "source": [
    "a ==6\n",
    "b == 10\n",
    "while b > a:\n",
    "    print(\"{} is less than {}\".format(b, a))\n",
    "    b += 1\n",
    "print(\"{} is not less than {}\".format(b, a))"
   ]
  },
  {
   "cell_type": "markdown",
   "metadata": {},
   "source": [
    "#### List comprehensions\n",
    "Créer une listes my_list\n",
    "Tester les fonctions suivantes"
   ]
  },
  {
   "cell_type": "code",
   "execution_count": 102,
   "metadata": {},
   "outputs": [],
   "source": [
    "my_list = [0,1,2,3,4,5]"
   ]
  },
  {
   "cell_type": "code",
   "execution_count": 106,
   "metadata": {},
   "outputs": [
    {
     "data": {
      "text/plain": [
       "[0, 1, 3, 5, 1, 3, 5, 7]"
      ]
     },
     "execution_count": 106,
     "metadata": {},
     "output_type": "execute_result"
    }
   ],
   "source": [
    "odd_numbers_from_my_list = [0,1,3,5]\n",
    "for i in my_list:\n",
    "    if i % 2 == 1:\n",
    "        odd_numbers_from_my_list.append(i)\n",
    "        \n",
    "odd_numbers_from_my_list"
   ]
  },
  {
   "cell_type": "code",
   "execution_count": 107,
   "metadata": {},
   "outputs": [
    {
     "data": {
      "text/plain": [
       "[1, 3, 5, 7]"
      ]
     },
     "execution_count": 107,
     "metadata": {},
     "output_type": "execute_result"
    }
   ],
   "source": [
    "odd_numbers_from_my_list = [i for i in my_list if i % 2 == 1]\n",
    "\n",
    "odd_numbers_from_my_list"
   ]
  },
  {
   "cell_type": "code",
   "execution_count": 108,
   "metadata": {},
   "outputs": [
    {
     "data": {
      "text/plain": [
       "[1, 64, 343, 0, 8, 64, 216]"
      ]
     },
     "execution_count": 108,
     "metadata": {},
     "output_type": "execute_result"
    }
   ],
   "source": [
    "cubed_even_numbers = [1,64,343]\n",
    "\n",
    "for i in my_list:\n",
    "    if i % 2 == 0:\n",
    "        cubed_even_numbers.append(i ** 3)\n",
    "\n",
    "cubed_even_numbers"
   ]
  },
  {
   "cell_type": "code",
   "execution_count": 132,
   "metadata": {},
   "outputs": [
    {
     "ename": "IndentationError",
     "evalue": "unindent does not match any outer indentation level (<tokenize>, line 4)",
     "output_type": "error",
     "traceback": [
      "\u001b[0;36m  File \u001b[0;32m\"<tokenize>\"\u001b[0;36m, line \u001b[0;32m4\u001b[0m\n\u001b[0;31m    cubed_even_numbers.append(i ** 3)\u001b[0m\n\u001b[0m    ^\u001b[0m\n\u001b[0;31mIndentationError\u001b[0m\u001b[0;31m:\u001b[0m unindent does not match any outer indentation level\n"
     ]
    }
   ],
   "source": [
    "my_list = [1, 64, 343, 0, 8, 64, 216]\n",
    "for i in my_list: 64\n",
    "        if i % 2 == 0:\n",
    "    cubed_even_numbers.append(i ** 3)"
   ]
  },
  {
   "cell_type": "code",
   "execution_count": 114,
   "metadata": {},
   "outputs": [],
   "source": [
    "cubed_even_num =[1]\n",
    "for i in my_list:\n",
    "    if i % 2 == 1:\n",
    "         cubed_even_num.append(i ** 3)\n",
    "    \n",
    "    cubed_even_num"
   ]
  }
 ],
 "metadata": {
  "kernelspec": {
   "display_name": "Python 3 (ipykernel)",
   "language": "python",
   "name": "python3"
  },
  "language_info": {
   "codemirror_mode": {
    "name": "ipython",
    "version": 3
   },
   "file_extension": ".py",
   "mimetype": "text/x-python",
   "name": "python",
   "nbconvert_exporter": "python",
   "pygments_lexer": "ipython3",
   "version": "3.12.7"
  }
 },
 "nbformat": 4,
 "nbformat_minor": 4
}
